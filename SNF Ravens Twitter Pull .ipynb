{
 "cells": [
  {
   "cell_type": "markdown",
   "metadata": {},
   "source": [
    "# Dataset Share 2\n",
    "Here is the code that pulls the data from Twitter. It is pulling tweets, that happened during the game, with #Ravens in them. Then, in the next notebook, I'll use sentiment analysis to look at the sentiment of the fanbase during the game."
   ]
  },
  {
   "cell_type": "code",
   "execution_count": null,
   "metadata": {},
   "outputs": [],
   "source": [
    "import datetime\n",
    "import tweepy\n",
    "\n",
    "# I've put my API keys in a .py file called API_keys.py\n",
    "from API_keys import api_key, api_key_secret, access_token, access_token_secret"
   ]
  },
  {
   "cell_type": "code",
   "execution_count": null,
   "metadata": {},
   "outputs": [],
   "source": [
    "# Authenticate the Tweepy API\n",
    "auth = tweepy.OAuthHandler(api_key,api_key_secret)\n",
    "auth.set_access_token(access_token, access_token_secret)\n",
    "api = tweepy.API(auth,wait_on_rate_limit=True, wait_on_rate_limit_notify=True)"
   ]
  },
  {
   "cell_type": "markdown",
   "metadata": {},
   "source": [
    "## Grabbing Tweets with the specific hashtags"
   ]
  },
  {
   "cell_type": "code",
   "execution_count": null,
   "metadata": {},
   "outputs": [],
   "source": [
    "date_start = datetime.date.today()\n",
    "date_end = date_start - datetime.timedelta(days=2)\n",
    "\n",
    "#search_words = f'#Ravens since:{date_end} until:{date_start} -filter:retweets'\n",
    "search_words = \"#Ravens\"\n",
    "\n",
    "# Notice the differences between searching tweets and users. \n",
    "\n",
    "\n",
    "\n",
    "headers = ['screen_name','name','id','location','created_at','full_text']\n",
    "out_file = open(f'{search_words}_followerss.txt','w', encoding='utf-8')\n",
    "out_file.write('\\t'.join(headers) + '\\n')\n",
    "    "
   ]
  },
  {
   "cell_type": "code",
   "execution_count": null,
   "metadata": {},
   "outputs": [],
   "source": [
    "           \n",
    "for idx, item in enumerate(tweepy.Cursor(api.search,\n",
    "                   # tweet_mode is defaulted to short, which only holds the first 140 characters of a Tweet.\n",
    "                   tweet_mode='extended',\n",
    "                   q=search_words,\n",
    "                   lang='en').items()):\n",
    "    \n",
    "    # There's all sort of information you can get from Tweets\n",
    "    # Find more tweet objects here: https://developer.twitter.com/en/docs/twitter-api/v1/data-dictionary/overview/tweet-object\n",
    "    if not hasattr(item, 'retweeted_status') :\n",
    "        text=item.full_text\n",
    "        text=text.replace(\"\\n\",\" \").replace(\"\\t\", \" \")\n",
    "        outline = [item.user.screen_name, item.user.name, \n",
    "                   item.user.id,item.user.location,item.created_at,\n",
    "                   text]\n",
    "            \n",
    "        out_file.write('\\t'.join([str(item) for item in outline]) + '\\n')\n",
    "    \n",
    "    if idx == 1000000:\n",
    "        break\n",
    "        \n",
    "out_file.close()"
   ]
  },
  {
   "cell_type": "code",
   "execution_count": null,
   "metadata": {},
   "outputs": [],
   "source": []
  }
 ],
 "metadata": {
  "kernelspec": {
   "display_name": "Python 3",
   "language": "python",
   "name": "python3"
  },
  "language_info": {
   "codemirror_mode": {
    "name": "ipython",
    "version": 3
   },
   "file_extension": ".py",
   "mimetype": "text/x-python",
   "name": "python",
   "nbconvert_exporter": "python",
   "pygments_lexer": "ipython3",
   "version": "3.8.3"
  }
 },
 "nbformat": 4,
 "nbformat_minor": 4
}
