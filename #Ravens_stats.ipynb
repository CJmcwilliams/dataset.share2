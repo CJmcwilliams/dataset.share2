{
 "cells": [
  {
   "cell_type": "code",
   "execution_count": 6,
   "metadata": {},
   "outputs": [],
   "source": [
    "import nltk\n",
    "import numpy as np\n",
    "\n",
    "from string import punctuation\n",
    "from collections import Counter"
   ]
  },
  {
   "cell_type": "code",
   "execution_count": 7,
   "metadata": {},
   "outputs": [],
   "source": [
    "from nltk.corpus import stopwords\n",
    "\n",
    "sw = stopwords.words('english')"
   ]
  },
  {
   "cell_type": "code",
   "execution_count": 31,
   "metadata": {},
   "outputs": [],
   "source": [
    "with open(\"#Ravens_followerss.txt\",'r') as infile :\n",
    "    next(infile)\n",
    "    for line in infile :\n",
    "        tweet_text = line.strip().split(\"\\t\")[-1]"
   ]
  },
  {
   "cell_type": "code",
   "execution_count": 17,
   "metadata": {},
   "outputs": [],
   "source": [
    "#ravens = open(\"#Ravens_followerss.txt\",'r', encoding = 'UTF-8').read()\n"
   ]
  },
  {
   "cell_type": "code",
   "execution_count": 12,
   "metadata": {},
   "outputs": [],
   "source": [
    "def get_patterns(text)  :\n",
    "    \"\"\"\n",
    "        This function takes text as an input and returns a dictionary of statistics,\n",
    "        after cleaning the text. \n",
    "    \n",
    "    \"\"\"\n",
    "    \n",
    "    # We'll make things a big clearer by initializing the \n",
    "    # statistics here. These are placeholder values.\n",
    "    total_tokens = 1\n",
    "    unique_tokens = 0\n",
    "    avg_token_len = 0.0\n",
    "    lex_diversity = 0.0\n",
    "    top_10 = Counter()\n",
    "    \n",
    "    # Tokenization and Normalization\n",
    "    tokens = [w for w in text.split()]\n",
    "    tokens = [w.lower() for w in tokens if w.isalpha() and w.lower() not in sw]\n",
    "    tokens_len = [len(w) for w in tokens]\n",
    "    fd = FreqDist(tokens)\n",
    "    \n",
    "    # Calculating statistics\n",
    "    total_tokens = len(tokens)\n",
    "    unique_tokens = len(set(tokens))\n",
    "    avg_token_len = np.mean(tokens_len)\n",
    "    lex_diversity = len(set(tokens))/len(tokens)\n",
    "    top_10 = fd.most_common(10)\n",
    "    \n",
    "    # Filling out the dictionary\n",
    "    results = {'tokens':total_tokens,\n",
    "               'unique_tokens':unique_tokens,\n",
    "               'avg_token_length':avg_token_len,\n",
    "               'lexical_diversity':lex_diversity,\n",
    "               'top_10':top_10}\n",
    "\n",
    "    return(results)"
   ]
  },
  {
   "cell_type": "code",
   "execution_count": 27,
   "metadata": {},
   "outputs": [],
   "source": [
    "ravens_results = get_patterns(ravens)"
   ]
  },
  {
   "cell_type": "code",
   "execution_count": 28,
   "metadata": {},
   "outputs": [
    {
     "data": {
      "text/plain": [
       "{'tokens': 43373,\n",
       " 'unique_tokens': 7592,\n",
       " 'avg_token_length': 5.7495446475918195,\n",
       " 'lexical_diversity': 0.1750397712862841,\n",
       " 'top_10': [('md', 563),\n",
       "  ('baltimore', 516),\n",
       "  ('game', 373),\n",
       "  ('ravens', 338),\n",
       "  ('lamar', 332),\n",
       "  ('usa', 318),\n",
       "  ('get', 256),\n",
       "  ('new', 249),\n",
       "  ('week', 240),\n",
       "  ('jackson', 224)]}"
      ]
     },
     "execution_count": 28,
     "metadata": {},
     "output_type": "execute_result"
    }
   ],
   "source": [
    "ravens_results"
   ]
  },
  {
   "cell_type": "code",
   "execution_count": null,
   "metadata": {},
   "outputs": [],
   "source": []
  }
 ],
 "metadata": {
  "kernelspec": {
   "display_name": "Python 3",
   "language": "python",
   "name": "python3"
  },
  "language_info": {
   "codemirror_mode": {
    "name": "ipython",
    "version": 3
   },
   "file_extension": ".py",
   "mimetype": "text/x-python",
   "name": "python",
   "nbconvert_exporter": "python",
   "pygments_lexer": "ipython3",
   "version": "3.8.3"
  }
 },
 "nbformat": 4,
 "nbformat_minor": 4
}
